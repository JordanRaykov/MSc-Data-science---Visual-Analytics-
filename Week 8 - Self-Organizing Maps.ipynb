{
 "cells": [
  {
   "cell_type": "markdown",
   "metadata": {},
   "source": [
    "# Self-Orginizing Maps"
   ]
  },
  {
   "cell_type": "markdown",
   "metadata": {},
   "source": [
    "In this and following few chapters we will continue with the third core type of methods widely used for data visualization and latent structure discovery: $\\textit{artificial neural network}$ (ANN) methods. I should point out that this was more the name used for these type of methods when they were developed, but more recently you can find some of these ANNs used as building blocks for more complex (computationally not necessarily conceptually) $\\textit{deep learning}$ techniques.\n",
    "\n"
   ]
  },
  {
   "cell_type": "markdown",
   "metadata": {},
   "source": [
    "The self-organizing maps (SOM) or Kohonen maps are a type of a neural networks which are trained in unsupervised way (unlike the most popular network architectures) to produce a low dimensional, discretized representation of the input space, or with other words a map. SOM differ from other neural networks in the way they are trained; they apply competitive learning procedure as opposed to error-correction learning. In addition to that, SOM use explicitly defined neighborhood function which determines the ability of the network to preserve the topological properties of the input space. In that way SOMs are somewhat similar to the manifold embedding algorithms we studied in the last few chapters, with the key difference that SOMs will not be aiming to directly learn lower dimensional projection variables to the input data, but merely a grid of nodes and weights, that encode well the input space. The number of nodes stays fixed and depends on the desing of the SOM where the weights associated with each node determine the assume location of the nodes in the high dimensional input space. This discretization of the input space inherently acts as cluster preserving mapping and this is why often SOMs are also considered as a clustering algorithm. \n",
    "SOMs are associated with certain grid type, i.e. square grid in the simplest case and SOMs learn a pooling of this grid which best describes the data. This pooling is described by the inferred node locations and distances between nodes in the trained grid. \n",
    "The goal of the SOM is to cause different parts of the grid shaped network to respond similarly to certain input patterns. "
   ]
  },
  {
   "cell_type": "markdown",
   "metadata": {},
   "source": [
    "# Self-Orginizing Maps - definition"
   ]
  },
  {
   "cell_type": "markdown",
   "metadata": {},
   "source": [
    "The SOM network typically consists of two layers of nodes, the input layer and the output layer. In SOM the input layer of $\\textit{source nodes}$ is directly connected to the output layer of $\\textit{computation nodes}$ without any hidden layers.\n",
    "\n",
    "\n",
    "The output layer, also known as “Kohonen layer” or “SOM layer”, represents a low dimensional map of the data. Nodes in the output layer are arranged in form of a topological architecture or grid. The number of nodes in the output layer denotes the maximum number of clusters which your map can account for (theoretically). The number of map unites will affect the trade-off of accuracy and generalization capability of your SOM. Typically the network topology is arranged in either a rectangular or hexagonal grid in the traditional SOM. Assume that each input point is represented by a vector $y\\in R^D$. Let us denote the weight vectors associated with the output layers as $w_k\\in R^D$  for $k=1,\\dots,K$ indicating each of the $K$ nodes in the output layer. The weights $w$ are links that connect the input nodes to the output nodes are updated during training.  \n",
    "\n",
    "The most common initialization method assigns preferably small random values to the weight vectors of nodes in the network. Alternatively, a more effective approach is to initialize the weight vectors along the two-dimensional linear subspace that is spanned by the eigenvectors corresponding to the largest eigenvalues computed from the input data.\n",
    "\n",
    "The weights are updated using $\\textit{competitive learning}$. At each step we randomly select a data point $y_i$ from the input space. Then, we find the node closest to the selected point, also referred to as the best matching unit (BMU), by finding:\n",
    "\\begin{equation}\n",
    " z_i = arg min_k \\lVert y_i - w_k\\rVert\n",
    "\\end{equation}\n",
    "Then, by having identified the BMU from point $y_i$ encoded in $z_i$, we proceed with updating the weight only for that unit (or in some cases the neighbors of it as well). This is done by adopting the update \n",
    "\\begin{equation}\n",
    "w_{z_i}^{(t+1)} = w_{z_i}^{(t)} + \\alpha(t)\\left [ y_i^{(t)} - w_{z_i}^{(t)}\\right ]\n",
    "\\end{equation}\n",
    "where the superscript $t$ denotes the value of the weight at iteration $t$ is used to update the value of the weight for iteration $t+1$; $\\alpha(t)$ is also called learning rate and controls the rate of change of the weight vectors for the SOM. In SOMs, the learning rate gradually decreases as a function of the iteration step index $t$. That means, while the step index increases, the learning rate might decrease linearly, exponentially, geometrically or in any other way we wish to define. In SOMs we also update the nodes neighboring the BMU using either the exact same update from above but now for the weights of the nodes closest to the BMU, or more generally if node $c$ is in the neighborhood of BMU associated with $y_i$ denoted by $z_i$:\n",
    "\\begin{equation}\n",
    "w_c^{(t+1)} = w_c^{(t)} + \\alpha(t)h_{z_{i}c}^{(t)}\\left [ y_i^{(t)} - w_c^{(t)}\\right ]\n",
    "\\end{equation}\n",
    "with $h_{z_{i}c}^{(t)}$ denoting the neighborhood function of BMU pointed by $z_i$. The neighborhood function usually decreases for points further away from the BMU and can be discrete or continious. For example, we can assume that $h_{z_{i}c}$ is discrete and it takes values of $0$ for all but the closest four neighboring nodes and value $1$ for the direct neighbors of the BMU. Continious neighborhood functions lead to smoother neighborhood kernel. The most widely used function of this type is the Gaussian function which decrease in both spatial and time domains:\n",
    "\\begin{equation}\n",
    "h_{z_{i}c}^{(t)} = \\exp\\left(-\\frac{d_{z_{i}c}^2}{2\\sigma^2(t)}\\right)\n",
    "\\end{equation}\n",
    "where $d_{z_{i}c}$ denotes the lateral distance between the winning neuron $z_i$ and the excited neuron $c$ and $\\sigma(t)$ represents the effective width or radius  of neighborhood at iteration $t$. σ(t) is chosen to be monotonically decreasing function of time leading to a decrease in the value of the neighborhood function (as time increases smaller updates of the neighboring nodes are made).\n"
   ]
  },
  {
   "cell_type": "markdown",
   "metadata": {},
   "source": [
    "# Summary"
   ]
  },
  {
   "cell_type": "markdown",
   "metadata": {},
   "source": [
    "1. $\\textbf{Initialization:}$ Choose the dimension and size of the output space. Assign random values or alternatively sample vectors drawn randomly from the training set to the initial weight vectors $w_k^{(0)}$ for $k=1,\\dots,K$. Specify the neighborhood function as well as the functional form of the learning rate $\\alpha(0)$ and radius of the neighborhood $\\sigma(0)$. Assign starting values for $\\alpha(0)$ and $\\sigma(0)$. Normalize training data. Define a critical threshold value $T$ for the maximum number of iterations. Set iteration index $t = 1$.\n",
    "\n",
    "2. $\\textbf{Sampling:}$. Randomly select an input vector $y_i$ from the training data set.\n",
    "3. $\\textbf{Similarity Matching:}$ Compute the Euclidean distances between the input vector and each output node’s weight vector and find the best matching node $c$ at iteration $t$ by applying the minimum distance criterion:\n",
    "\\begin{equation}\n",
    "c = argmin_j \\lVert y_i - w_k^{(t)}\\rVert \\text{ for } k=1,\\dots,N\n",
    "\\end{equation}\n",
    "\n",
    "4. $\\textbf{Weight Updating:}$ Adjust the weights of the winning node and its neighborhood according to their distances to the winning node by using the update formula:\n",
    "\\begin{equation}\n",
    "w_{z_i}^{(t +1)} = w_{z_i}^{(t)} + \\alpha(t)h_{z_{i}c}^{(t)}[x(t)−w_{z_i}^{(t)}]\n",
    "\\end{equation}\n",
    "For the winning node the neighborhood function $h_{z_{i}c}^{(t)}$ will be equal to 1.\n",
    "\n",
    "5. $\\textbf{Parameter Adjustment:}$ Set $t = t+1$. Adjust the neighborhood size and the learning rate. \n",
    "\n",
    "6. $\\textbf{Continuation:}$ Keep returning to Step 2 until the change of the weights is less than\n",
    "a prespecified threshold value or the maximum number $T$ of iterations is reached. Otherwise stop.\n"
   ]
  },
  {
   "cell_type": "markdown",
   "metadata": {},
   "source": [
    "# Quality of the map"
   ]
  },
  {
   "cell_type": "markdown",
   "metadata": {},
   "source": [
    "SOM has the ability to produce simpler low-dimensional representations of complex high-dimensional data at the expense of information loss during the projection. This representation of topological relations and abstract structures is an approximation of the local, rather than the global, probability density of a given sample data set. This explains why the outputs of an SOM can vary highly depending on the initial setting of parameters such as the number of output nodes, the learning rate, and the update speed of the neighborhood. It is, therefore, necessary to examine the quality of the results in order to determine the parameter values which give the most appropriate representation of the data set. However, it should be noted that there are no generally accepted rules for the determination of the parameters a priori. To address these issues different measurement methods have been developed in the literature to evaluate and compare the quality of SOM outputs. In this respect, the most studied properties of SOM projections are learning quality and projection quality, where the first one is sometimes referred to as vector quantization and the latter one as topology preservation. Technically, there is a tradeoff between these two, the topology preservation quality usually decreases with increasing data representation accuracy. "
   ]
  },
  {
   "cell_type": "markdown",
   "metadata": {},
   "source": [
    "$\\textbf{Quantization Error:}$ The Quantization Error (QE) provides a means to assess the quality of learning and\n",
    "shows how good the map fits to data. It is computed by determining the average distance of the sample vectors to its best matching unit. The formula of the average quantization error is as follows:\n",
    "\\begin{equation}\n",
    "QE = \\frac{\\sum_{i=1}^{N} \\lVert y_i - w_c\\rVert}{N}\n",
    "\\end{equation} \n",
    "where $w_c$ the weight associated with the BMU of point $y_i$ which changes with $i$. By increasing the number of output nodes for any given dataset, the QE can be reduced as the data samples are distributed more sparsely on the map. Here, the QE measure completely disregards the topological relations and because of the tradeoff between vector quantization and projection quality of the SOM, reducing the QE may lead to distortions of the map’s topology. Using a small neighborhood size can be used in order to achieve a small quantization error and a good approximation of input distribution. Note that a low QE may also imply an over fitted model."
   ]
  },
  {
   "cell_type": "markdown",
   "metadata": {},
   "source": [
    "\\textbf{Topographic Error:} Topology preservation, i.e. projection quality, is a property that is more complex to\n",
    "define and hard to measure. The most common quality measure for topology preservation is the Topographic Error (TE), which can be expressed as the percentage of data vectors for which the first and second BMUs are not adjacent units. The topographic error is computed as follows:\n",
    "\\begin{equation}\n",
    "TE = \\frac{1}{N}\\sum_{i=1}^{N}u\\left(y_i\\right)\n",
    "\\end{equation}\n",
    "where $N$ is the number of input samples, and $u \\left( y_i \\right) = 1$ if the best- and second bestmatching units of $y_i$ are non-adjacent, otherwise $u\\left( y_i \\right) = 0$. So, the less the violation of the neighborhood relations on the grid is, the better the SOM preserves the topology. Some have argued that this measure is unreliable for small maps, since the TE is almost too simplistic and suffers from the discrete nature of the output space. There are quite a few additional quality of fit measures that have been proposed for SOMs but we will not be going in detail through all of them. "
   ]
  },
  {
   "cell_type": "markdown",
   "metadata": {},
   "source": [
    "# Implementation"
   ]
  },
  {
   "cell_type": "code",
   "execution_count": 11,
   "metadata": {},
   "outputs": [
    {
     "name": "stdout",
     "output_type": "stream",
     "text": [
      "Sample pattern: [5.9 3.  5.1 1.8]\n",
      "Class of the above pattern: 2\n",
      "Heuristically computed appropriate no. of map units: 304\n"
     ]
    }
   ],
   "source": [
    "import numpy as np\n",
    "import math\n",
    "import random\n",
    "import sklearn.datasets as ds\n",
    "iris = ds.load_iris()\n",
    "patterns = iris.data\n",
    "classes = iris.target\n",
    "\n",
    "\n",
    "sample_no = np.random.randint(0,len(patterns))\n",
    "\n",
    "\n",
    "print(\"Sample pattern: \" + str(patterns[int(sample_no)]))\n",
    "print(\"Class of the above pattern: \" + str(classes[int(sample_no)]))\n",
    "#A heuristic formula for calculating no. of map units\n",
    "#source: https://stackoverflow.com/questions/19163214/kohonen-self-organizing-maps-determining-the-number-of-neurons-and-grid-size\n",
    "\n",
    "def mapunits(input_len,size='small'):\n",
    "    \n",
    "    heuristic_map_units = 5*input_len**0.54321\n",
    "     \n",
    "    if size == 'big':\n",
    "        heuristic_map_units = 4*(heuristic_map_units)\n",
    "    else:\n",
    "        heuristic_map_units = 0.25*(heuristic_map_units)\n",
    "        \n",
    "    return heuristic_map_units\n",
    "        \n",
    "        \n",
    "map_units = mapunits(len(patterns),size='big')\n",
    "print(\"Heuristically computed appropriate no. of map units: \"+str(int(map_units)))\n",
    "\n",
    "#For reference purpose only - however this function can be used to automatically calculate the SOM dimensions\n",
    "#from data length. I will still be specifying the SOM dimensions manually, anyway."
   ]
  },
  {
   "cell_type": "code",
   "execution_count": 6,
   "metadata": {},
   "outputs": [
    {
     "data": {
      "text/plain": [
       "119"
      ]
     },
     "execution_count": 6,
     "metadata": {},
     "output_type": "execute_result"
    }
   ],
   "source": [
    "np.random.randint(0,len(patterns))"
   ]
  },
  {
   "cell_type": "code",
   "execution_count": 7,
   "metadata": {},
   "outputs": [
    {
     "data": {
      "text/plain": [
       "150"
      ]
     },
     "execution_count": 7,
     "metadata": {},
     "output_type": "execute_result"
    }
   ],
   "source": [
    "len(patterns)"
   ]
  },
  {
   "cell_type": "code",
   "execution_count": 8,
   "metadata": {},
   "outputs": [
    {
     "name": "stdout",
     "output_type": "stream",
     "text": [
      "Lower error found: 0.9683214762742399 at epoch: 13\n",
      "\tLearning rate: 0.0974\n",
      "\tNeighbourhood radius: 12.179188620109366\n",
      "Lower error found: 0.7668314232143377 at epoch: 17\n",
      "\tLearning rate: 0.0966\n",
      "\tNeighbourhood radius: 12.082143807968833\n",
      "Lower error found: 0.7376631244816144 at epoch: 43\n",
      "\tLearning rate: 0.09140000000000001\n",
      "\tNeighbourhood radius: 11.469927890251887\n",
      "Lower error found: 0.6099761293901546 at epoch: 46\n",
      "\tLearning rate: 0.0908\n",
      "\tNeighbourhood radius: 11.40131436931363\n",
      "Lower error found: 0.5714191414466719 at epoch: 115\n",
      "\tLearning rate: 0.07700000000000001\n",
      "\tNeighbourhood radius: 9.931670031291675\n",
      "Lower error found: 0.5178865408329635 at epoch: 121\n",
      "\tLearning rate: 0.0758\n",
      "\tNeighbourhood radius: 9.81320221939787\n",
      "Lower error found: 0.4629200100922266 at epoch: 123\n",
      "\tLearning rate: 0.07540000000000001\n",
      "\tNeighbourhood radius: 9.774027811568466\n",
      "Lower error found: 0.4615174603808845 at epoch: 129\n",
      "\tLearning rate: 0.0742\n",
      "\tNeighbourhood radius: 9.6574404013366\n",
      "Lower error found: 0.45706034471843576 at epoch: 152\n",
      "\tLearning rate: 0.0696\n",
      "\tNeighbourhood radius: 9.22326083063239\n",
      "Lower error found: 0.4373756552746668 at epoch: 170\n",
      "\tLearning rate: 0.06599999999999999\n",
      "\tNeighbourhood radius: 8.89712903453262\n",
      "Lower error found: 0.204624255370042 at epoch: 194\n",
      "\tLearning rate: 0.061200000000000004\n",
      "\tNeighbourhood radius: 8.4801542908013\n",
      "Lower error found: 0.17977003717967632 at epoch: 227\n",
      "\tLearning rate: 0.05460000000000001\n",
      "\tNeighbourhood radius: 7.938534165574102\n",
      "Lower error found: 0.12833027038011074 at epoch: 290\n",
      "\tLearning rate: 0.04200000000000001\n",
      "\tNeighbourhood radius: 6.998729582067526\n",
      "Lower error found: 0.11968000672569871 at epoch: 312\n",
      "\tLearning rate: 0.0376\n",
      "\tNeighbourhood radius: 6.697461970843201\n",
      "Lower error found: 0.10674209364110379 at epoch: 325\n",
      "\tLearning rate: 0.034999999999999996\n",
      "\tNeighbourhood radius: 6.525572209512701\n",
      "Lower error found: 0.1049725686506969 at epoch: 336\n",
      "\tLearning rate: 0.032799999999999996\n",
      "\tNeighbourhood radius: 6.383577292077349\n",
      "Lower error found: 0.042869180504353094 at epoch: 356\n",
      "\tLearning rate: 0.028800000000000006\n",
      "\tNeighbourhood radius: 6.133273646240502\n",
      "Lower error found: 0.03749203145216386 at epoch: 405\n",
      "\tLearning rate: 0.018999999999999996\n",
      "\tNeighbourhood radius: 5.560725827786764\n",
      "Lower error found: 0.017947418330828403 at epoch: 414\n",
      "\tLearning rate: 0.017200000000000003\n",
      "\tNeighbourhood radius: 5.461528219680515\n",
      "Lower error found: 0.017209296432919942 at epoch: 469\n",
      "\tLearning rate: 0.006200000000000006\n",
      "\tNeighbourhood radius: 4.892623410075082\n",
      "Lower error found: 0.016224858681968785 at epoch: 472\n",
      "\tLearning rate: 0.005600000000000005\n",
      "\tNeighbourhood radius: 4.863355560965454\n",
      "Lower error found: 0.011162766845393197 at epoch: 480\n",
      "\tLearning rate: 0.0040000000000000036\n",
      "\tNeighbourhood radius: 4.786161074688901\n",
      "Lower error found: 0.008554965074631174 at epoch: 484\n",
      "\tLearning rate: 0.003200000000000003\n",
      "\tNeighbourhood radius: 4.748024535642234\n",
      "Lower error found: 0.007469079634376825 at epoch: 485\n",
      "\tLearning rate: 0.0030000000000000027\n",
      "\tNeighbourhood radius: 4.738537976292485\n",
      "Lower error found: 0.006244197402647644 at epoch: 491\n",
      "\tLearning rate: 0.0018000000000000017\n",
      "\tNeighbourhood radius: 4.682015334696622\n",
      "Lower error found: 0.006100277534723289 at epoch: 492\n",
      "\tLearning rate: 0.0016000000000000016\n",
      "\tNeighbourhood radius: 4.672660661818331\n",
      "Lower error found: 0.002479131423679218 at epoch: 493\n",
      "\tLearning rate: 0.0014000000000000013\n",
      "\tNeighbourhood radius: 4.663324679588918\n",
      "Lower error found: 0.0018671348413654377 at epoch: 494\n",
      "\tLearning rate: 0.0012000000000000012\n",
      "\tNeighbourhood radius: 4.65400735066444\n",
      "Lower error found: 0.000872312695027674 at epoch: 497\n",
      "\tLearning rate: 0.0006000000000000006\n",
      "\tNeighbourhood radius: 4.626166911399516\n"
     ]
    }
   ],
   "source": [
    "import matplotlib.pyplot as plt\n",
    "%matplotlib inline\n",
    "\n",
    "def Eucli_dists(MAP,x):\n",
    "    x = x.reshape((1,1,-1))\n",
    "    #print(x)\n",
    "    Eucli_MAP = MAP - x\n",
    "    Eucli_MAP = Eucli_MAP**2\n",
    "    Eucli_MAP = np.sqrt(np.sum(Eucli_MAP,2))\n",
    "    return Eucli_MAP\n",
    "\n",
    "input_dimensions = 4\n",
    "\n",
    "map_width = 25\n",
    "map_height = 25\n",
    "MAP = np.random.uniform(size=(map_height,map_width,input_dimensions))\n",
    "prev_MAP = np.zeros((map_height,map_width,input_dimensions))\n",
    "\n",
    "radius0 = max(map_width,map_height)/2\n",
    "learning_rate0 = 0.1\n",
    "\n",
    "coordinate_map = np.zeros([map_height,map_width,2],dtype=np.int32)\n",
    "\n",
    "for i in range(0,map_height):\n",
    "    for j in range(0,map_width):\n",
    "        coordinate_map[i][j] = [i,j]\n",
    "\n",
    "epochs = 500\n",
    "radius=radius0\n",
    "learning_rate = learning_rate0\n",
    "max_iterations = len(patterns)+1\n",
    "too_many_iterations = 10*max_iterations\n",
    "\n",
    "convergence = [1]\n",
    "\n",
    "timestep=1\n",
    "e=0.001 \n",
    "flag=0\n",
    "\n",
    "epoch=0\n",
    "while epoch<epochs:\n",
    "    \n",
    "    shuffle = np.random.randint(len(patterns), size=len(patterns))\n",
    "    for i in range(len(patterns)):\n",
    "        \n",
    "        # difference between prev_MAP and MAP\n",
    "        J = np.linalg.norm(MAP - prev_MAP)\n",
    "        #print(J)\n",
    "        # J = || euclidean distance between previous MAP and current MAP  ||\n",
    "\n",
    "        if  J <= e: #if converged (convergence criteria)\n",
    "            flag=1\n",
    "            break\n",
    "            \n",
    "        else:\n",
    "            \n",
    "            #if timestep == max_iterations and timestep != too_many_iterations:\n",
    "            #    epochs += 1\n",
    "            #    max_iterations = epochs*len(patterns)\n",
    "            \n",
    "            pattern = patterns[shuffle[i]]\n",
    "            pattern_ary = np.tile(pattern, (map_height, map_width, 1))\n",
    "            Eucli_MAP = np.linalg.norm(pattern_ary - MAP, axis=2)\n",
    "            \n",
    "            # Get the best matching unit(BMU) which is the one with the smallest Euclidean distance\n",
    "            BMU = np.unravel_index(np.argmin(Eucli_MAP, axis=None), Eucli_MAP.shape)\n",
    "            #BMU[1] = np.argmin(Eucli_MAP, 1)[int(BMU[0])]\n",
    "    \n",
    "            #Eucli_from_BMU = Eucli_dists(coordinate_map,BMU)  \n",
    "        \n",
    "            prev_MAP = np.copy(MAP)\n",
    "             \n",
    "            for i in range(map_height):\n",
    "                for j in range(map_width):\n",
    "                    distance = np.linalg.norm([i - BMU[0], j - BMU[1]])\n",
    "                    if distance <= radius:\n",
    "                        #theta = math.exp(-(distance**2)/(2*(radius**2)))\n",
    "                        MAP[i][j] = MAP[i][j] + learning_rate*(pattern-MAP[i][j])\n",
    "            \n",
    "            learning_rate = learning_rate0*(1-(epoch/epochs))\n",
    "            #time_constant = max_iterations/math.log(radius) \n",
    "            radius = radius0*math.exp(-epoch/epochs)\n",
    "            #print([learning_rate, radius])\n",
    "            \n",
    "            timestep+=1\n",
    "    if J < min(convergence):\n",
    "        print('Lower error found: %s' %str(J) + ' at epoch: %s' % str(epoch))\n",
    "        print('\\tLearning rate: ' + str(learning_rate))\n",
    "        print('\\tNeighbourhood radius: ' + str(radius))\n",
    "        MAP_final = MAP\n",
    "    convergence.append(J)\n",
    "    \n",
    "    if flag==1:\n",
    "        break\n",
    "    epoch+=1"
   ]
  },
  {
   "cell_type": "markdown",
   "metadata": {},
   "source": [
    "Let us have a look at how the error decreases. Can you see which type of error this is?"
   ]
  },
  {
   "cell_type": "code",
   "execution_count": 9,
   "metadata": {},
   "outputs": [
    {
     "data": {
      "image/png": "[encoded data removed]",
      "text/plain": [
       "<Figure size 432x288 with 1 Axes>"
      ]
     },
     "metadata": {},
     "output_type": "display_data"
    },
    {
     "name": "stdout",
     "output_type": "stream",
     "text": [
      "Number of timesteps: 74572\n",
      "Final error: 0.000872312695027674\n"
     ]
    }
   ],
   "source": [
    "# Show a plot of the error at each epoch to show convergence, but this is guaranteed in SOM\n",
    "# due to the learning rate and neighbourhood decay\n",
    "plt.plot(convergence)\n",
    "plt.ylabel('error')\n",
    "plt.xlabel('epoch')\n",
    "plt.grid(True)\n",
    "plt.yscale('log')\n",
    "plt.show()\n",
    "print('Number of timesteps: ' + str(timestep))\n",
    "print('Final error: ' + str(J))"
   ]
  },
  {
   "cell_type": "markdown",
   "metadata": {},
   "source": [
    "Now we just have to plot the resulting map, i.e. the nodes and weights associated with the output layer."
   ]
  },
  {
   "cell_type": "code",
   "execution_count": 10,
   "metadata": {},
   "outputs": [
    {
     "name": "stdout",
     "output_type": "stream",
     "text": [
      "Red = Iris-Setosa\n",
      "Blue = Iris-Virginica\n",
      "Green = Iris-Versicolor\n"
     ]
    },
    {
     "data": {
      "text/plain": [
       "<matplotlib.image.AxesImage at 0x7f77a0ba6630>"
      ]
     },
     "execution_count": 10,
     "metadata": {},
     "output_type": "execute_result"
    },
    {
     "data": {
      "image/png": "[encoded data removed]",
      "text/plain": [
       "<Figure size 432x288 with 1 Axes>"
      ]
     },
     "metadata": {},
     "output_type": "display_data"
    }
   ],
   "source": [
    "from scipy.misc import toimage\n",
    "from PIL import Image\n",
    "\n",
    "\n",
    "BMU = np.zeros([2],dtype=np.int32)\n",
    "result_map = np.zeros([map_height,map_width,3],dtype=np.float32)\n",
    "\n",
    "i=0\n",
    "for pattern in patterns:\n",
    "    \n",
    "    pattern_ary = np.tile(pattern, (map_height, map_width, 1))\n",
    "    Eucli_MAP = np.linalg.norm(pattern_ary - MAP_final, axis=2)\n",
    "\n",
    "    # Get the best matching unit(BMU) which is the one with the smallest Euclidean distance\n",
    "    BMU = np.unravel_index(np.argmin(Eucli_MAP, axis=None), Eucli_MAP.shape)\n",
    "    \n",
    "    x = BMU[0]\n",
    "    y = BMU[1]\n",
    "    \n",
    "    if classes[i] == 0:\n",
    "        if result_map[x][y][0] <= 0.5:\n",
    "            result_map[x][y] += np.asarray([0.5,0,0])\n",
    "    elif classes[i] == 1:\n",
    "        if result_map[x][y][1] <= 0.5:\n",
    "            result_map[x][y] += np.asarray([0,0.5,0])\n",
    "    elif classes[i] == 2:\n",
    "        if result_map[x][y][2] <= 0.5:\n",
    "            result_map[x][y] += np.asarray([0,0,0.5])\n",
    "    i+=1\n",
    "result_map = np.flip(result_map,0)\n",
    "    \n",
    "#print result_map\n",
    "\n",
    "print(\"Red = Iris-Setosa\")\n",
    "print(\"Blue = Iris-Virginica\")\n",
    "print(\"Green = Iris-Versicolor\")\n",
    "\n",
    "plt.imshow(result_map, interpolation='nearest')"
   ]
  },
  {
   "cell_type": "markdown",
   "metadata": {},
   "source": [
    "$\\textbf{U-matrix}$"
   ]
  },
  {
   "cell_type": "markdown",
   "metadata": {},
   "source": [
    "As mentioned in the begining, we doing unsupervised learning often they key plot we use to analyse structure in the data is the U-matrix."
   ]
  },
  {
   "cell_type": "code",
   "execution_count": 109,
   "metadata": {},
   "outputs": [],
   "source": [
    "norm_Eucli_MAP = np.divide(Eucli_MAP,np.amax(Eucli_MAP))"
   ]
  },
  {
   "cell_type": "code",
   "execution_count": 110,
   "metadata": {},
   "outputs": [
    {
     "data": {
      "image/png": "[encoded data removed]",
      "text/plain": [
       "<Figure size 432x288 with 1 Axes>"
      ]
     },
     "metadata": {},
     "output_type": "display_data"
    }
   ],
   "source": [
    "plt.imshow(norm_Eucli_MAP, cmap='gray', vmin=0, vmax=1)\n",
    "plt.show()"
   ]
  },
  {
   "cell_type": "code",
   "execution_count": null,
   "metadata": {},
   "outputs": [],
   "source": []
  }
 ],
 "metadata": {
  "kernelspec": {
   "display_name": "Python 3",
   "language": "python",
   "name": "python3"
  },
  "language_info": {
   "codemirror_mode": {
    "name": "ipython",
    "version": 3
   },
   "file_extension": ".py",
   "mimetype": "text/x-python",
   "name": "python",
   "nbconvert_exporter": "python",
   "pygments_lexer": "ipython3",
   "version": "3.6.5"
  }
 },
 "nbformat": 4,
 "nbformat_minor": 2
}
